{
  "cells": [
    {
      "cell_type": "markdown",
      "metadata": {
        "id": "tz4wfa6ITdo0"
      },
      "source": [
        "<a href=\"https://cognitiveclass.ai\"><img src = \"https://s3-api.us-geo.objectstorage.softlayer.net/cf-courses-data/CognitiveClass/Logos/organization_logo/organization_logo.png\" width = 400> </a>\n",
        "\n",
        "<h1 align=center><font size = 5>Peer Review Final Assignment</font></h1>"
      ]
    },
    {
      "cell_type": "markdown",
      "metadata": {
        "id": "RNxx1cMkTdo1"
      },
      "source": [
        "## Introduction\n"
      ]
    },
    {
      "cell_type": "markdown",
      "metadata": {
        "id": "ioYoopZlTdo2"
      },
      "source": [
        "In this lab, you will build an image classifier using the VGG16 pre-trained model, and you will evaluate it and compare its performance to the model we built in the last module using the ResNet50 pre-trained model. Good luck!"
      ]
    },
    {
      "cell_type": "markdown",
      "metadata": {
        "id": "NruuHc-eTdo3"
      },
      "source": [
        "## Table of Contents\n",
        "\n",
        "<div class=\"alert alert-block alert-info\" style=\"margin-top: 20px\">\n",
        "\n",
        "<font size = 3>    \n",
        "\n",
        "1. <a href=\"#item41\">Download Data\n",
        "2. <a href=\"#item42\">Part 1</a>\n",
        "3. <a href=\"#item43\">Part 2</a>  \n",
        "4. <a href=\"#item44\">Part 3</a>  \n",
        "\n",
        "</font>\n",
        "    \n",
        "</div>"
      ]
    },
    {
      "cell_type": "markdown",
      "metadata": {
        "id": "zeLs1blXTdo4"
      },
      "source": [
        "   "
      ]
    },
    {
      "cell_type": "markdown",
      "metadata": {
        "id": "vQBEiY1eTdo4"
      },
      "source": [
        "<a id=\"item41\"></a>"
      ]
    },
    {
      "cell_type": "markdown",
      "metadata": {
        "id": "yY6xnIHrTdo5"
      },
      "source": [
        "## Download Data"
      ]
    },
    {
      "cell_type": "markdown",
      "metadata": {
        "id": "U2iobyPrTdo5"
      },
      "source": [
        "Use the <code>wget</code> command to download the data for this assignment from here: https://s3-api.us-geo.objectstorage.softlayer.net/cf-courses-data/CognitiveClass/DL0321EN/data/concrete_data_week4.zip"
      ]
    },
    {
      "cell_type": "markdown",
      "metadata": {
        "id": "XYjD36IgTdo6"
      },
      "source": [
        "Use the following cells to download the data."
      ]
    },
    {
      "cell_type": "code",
      "execution_count": 1,
      "metadata": {
        "colab": {
          "base_uri": "https://localhost:8080/"
        },
        "id": "JadNDC1ATdo7",
        "outputId": "ad0cb962-6171-40fe-a8c1-21ca6fb11237"
      },
      "outputs": [
        {
          "name": "stdout",
          "output_type": "stream",
          "text": [
            "--2024-09-02 03:33:09--  https://s3-api.us-geo.objectstorage.softlayer.net/cf-courses-data/CognitiveClass/DL0321EN/data/concrete_data_week4.zip\n",
            "Resolving s3-api.us-geo.objectstorage.softlayer.net (s3-api.us-geo.objectstorage.softlayer.net)... 67.228.254.196\n",
            "Connecting to s3-api.us-geo.objectstorage.softlayer.net (s3-api.us-geo.objectstorage.softlayer.net)|67.228.254.196|:443... connected.\n",
            "HTTP request sent, awaiting response... 304 Not Modified\n",
            "File ‘concrete_data_week4.zip’ not modified on server. Omitting download.\n",
            "\n"
          ]
        }
      ],
      "source": [
        "!wget -N https://s3-api.us-geo.objectstorage.softlayer.net/cf-courses-data/CognitiveClass/DL0321EN/data/concrete_data_week4.zip"
      ]
    },
    {
      "cell_type": "code",
      "execution_count": 2,
      "metadata": {
        "id": "YIg85jqGTdo7"
      },
      "outputs": [],
      "source": [
        "!unzip -oq concrete_data_week4.zip"
      ]
    },
    {
      "cell_type": "markdown",
      "metadata": {
        "id": "Fkufp9uzTdo8"
      },
      "source": [
        "After you unzip the data, you fill find the data has already been divided into a train, validation, and test sets."
      ]
    },
    {
      "cell_type": "code",
      "execution_count": 3,
      "metadata": {
        "colab": {
          "base_uri": "https://localhost:8080/"
        },
        "id": "ar9v7B9XVAkw",
        "outputId": "8dd24b7d-1afc-4436-e021-8a22d3c00860"
      },
      "outputs": [
        {
          "name": "stdout",
          "output_type": "stream",
          "text": [
            "Requirement already satisfied: Keras-Applications in /Users/bolatanibrahim/.pyenv/versions/3.7.16/lib/python3.7/site-packages (1.0.8)\r\n",
            "Requirement already satisfied: numpy>=1.9.1 in /Users/bolatanibrahim/.pyenv/versions/3.7.16/lib/python3.7/site-packages (from Keras-Applications) (1.21.6)\r\n",
            "Requirement already satisfied: h5py in /Users/bolatanibrahim/.pyenv/versions/3.7.16/lib/python3.7/site-packages (from Keras-Applications) (3.8.0)\n",
            "Requirement already satisfied: tensorflow==2.8.0 in /Users/bolatanibrahim/.pyenv/versions/3.7.16/lib/python3.7/site-packages (2.8.0)\n",
            "Requirement already satisfied: absl-py>=0.4.0 in /Users/bolatanibrahim/.pyenv/versions/3.7.16/lib/python3.7/site-packages (from tensorflow==2.8.0) (2.1.0)\n",
            "Requirement already satisfied: astunparse>=1.6.0 in /Users/bolatanibrahim/.pyenv/versions/3.7.16/lib/python3.7/site-packages (from tensorflow==2.8.0) (1.6.3)\n",
            "Requirement already satisfied: flatbuffers>=1.12 in /Users/bolatanibrahim/.pyenv/versions/3.7.16/lib/python3.7/site-packages (from tensorflow==2.8.0) (1.12)\n",
            "Requirement already satisfied: gast>=0.2.1 in /Users/bolatanibrahim/.pyenv/versions/3.7.16/lib/python3.7/site-packages (from tensorflow==2.8.0) (0.4.0)\n",
            "Requirement already satisfied: google-pasta>=0.1.1 in /Users/bolatanibrahim/.pyenv/versions/3.7.16/lib/python3.7/site-packages (from tensorflow==2.8.0) (0.2.0)\n",
            "Requirement already satisfied: h5py>=2.9.0 in /Users/bolatanibrahim/.pyenv/versions/3.7.16/lib/python3.7/site-packages (from tensorflow==2.8.0) (3.8.0)\n",
            "Requirement already satisfied: keras-preprocessing>=1.1.1 in /Users/bolatanibrahim/.pyenv/versions/3.7.16/lib/python3.7/site-packages (from tensorflow==2.8.0) (1.1.2)\n",
            "Requirement already satisfied: libclang>=9.0.1 in /Users/bolatanibrahim/.pyenv/versions/3.7.16/lib/python3.7/site-packages (from tensorflow==2.8.0) (18.1.1)\n",
            "Requirement already satisfied: numpy>=1.20 in /Users/bolatanibrahim/.pyenv/versions/3.7.16/lib/python3.7/site-packages (from tensorflow==2.8.0) (1.21.6)\n",
            "Requirement already satisfied: opt-einsum>=2.3.2 in /Users/bolatanibrahim/.pyenv/versions/3.7.16/lib/python3.7/site-packages (from tensorflow==2.8.0) (3.3.0)\n",
            "Requirement already satisfied: protobuf>=3.9.2 in /Users/bolatanibrahim/.pyenv/versions/3.7.16/lib/python3.7/site-packages (from tensorflow==2.8.0) (3.19.6)\n",
            "Requirement already satisfied: setuptools in /Users/bolatanibrahim/.pyenv/versions/3.7.16/lib/python3.7/site-packages (from tensorflow==2.8.0) (68.0.0)\n",
            "Requirement already satisfied: six>=1.12.0 in /Users/bolatanibrahim/.local/lib/python3.7/site-packages (from tensorflow==2.8.0) (1.14.0)\n",
            "Requirement already satisfied: termcolor>=1.1.0 in /Users/bolatanibrahim/.local/lib/python3.7/site-packages (from tensorflow==2.8.0) (1.1.0)\n",
            "Requirement already satisfied: typing-extensions>=3.6.6 in /Users/bolatanibrahim/.pyenv/versions/3.7.16/lib/python3.7/site-packages (from tensorflow==2.8.0) (4.5.0)\n",
            "Requirement already satisfied: wrapt>=1.11.0 in /Users/bolatanibrahim/.pyenv/versions/3.7.16/lib/python3.7/site-packages (from tensorflow==2.8.0) (1.16.0)\n",
            "Requirement already satisfied: tensorboard<2.9,>=2.8 in /Users/bolatanibrahim/.pyenv/versions/3.7.16/lib/python3.7/site-packages (from tensorflow==2.8.0) (2.8.0)\n",
            "Requirement already satisfied: tf-estimator-nightly==2.8.0.dev2021122109 in /Users/bolatanibrahim/.pyenv/versions/3.7.16/lib/python3.7/site-packages (from tensorflow==2.8.0) (2.8.0.dev2021122109)\n",
            "Requirement already satisfied: keras<2.9,>=2.8.0rc0 in /Users/bolatanibrahim/.pyenv/versions/3.7.16/lib/python3.7/site-packages (from tensorflow==2.8.0) (2.8.0)\n",
            "Requirement already satisfied: tensorflow-io-gcs-filesystem>=0.23.1 in /Users/bolatanibrahim/.pyenv/versions/3.7.16/lib/python3.7/site-packages (from tensorflow==2.8.0) (0.34.0)\n",
            "Requirement already satisfied: grpcio<2.0,>=1.24.3 in /Users/bolatanibrahim/.pyenv/versions/3.7.16/lib/python3.7/site-packages (from tensorflow==2.8.0) (1.24.3)\n",
            "Requirement already satisfied: wheel<1.0,>=0.23.0 in /Users/bolatanibrahim/.pyenv/versions/3.7.16/lib/python3.7/site-packages (from astunparse>=1.6.0->tensorflow==2.8.0) (0.42.0)\n",
            "Requirement already satisfied: google-auth<3,>=1.6.3 in /Users/bolatanibrahim/.pyenv/versions/3.7.16/lib/python3.7/site-packages (from tensorboard<2.9,>=2.8->tensorflow==2.8.0) (2.34.0)\n",
            "Requirement already satisfied: google-auth-oauthlib<0.5,>=0.4.1 in /Users/bolatanibrahim/.pyenv/versions/3.7.16/lib/python3.7/site-packages (from tensorboard<2.9,>=2.8->tensorflow==2.8.0) (0.4.6)\n",
            "Requirement already satisfied: markdown>=2.6.8 in /Users/bolatanibrahim/.pyenv/versions/3.7.16/lib/python3.7/site-packages (from tensorboard<2.9,>=2.8->tensorflow==2.8.0) (3.4.4)\n",
            "Requirement already satisfied: requests<3,>=2.21.0 in /Users/bolatanibrahim/.local/lib/python3.7/site-packages (from tensorboard<2.9,>=2.8->tensorflow==2.8.0) (2.26.0)\n",
            "Requirement already satisfied: tensorboard-data-server<0.7.0,>=0.6.0 in /Users/bolatanibrahim/.pyenv/versions/3.7.16/lib/python3.7/site-packages (from tensorboard<2.9,>=2.8->tensorflow==2.8.0) (0.6.1)\n",
            "Requirement already satisfied: tensorboard-plugin-wit>=1.6.0 in /Users/bolatanibrahim/.pyenv/versions/3.7.16/lib/python3.7/site-packages (from tensorboard<2.9,>=2.8->tensorflow==2.8.0) (1.8.1)\n",
            "Requirement already satisfied: werkzeug>=0.11.15 in /Users/bolatanibrahim/.pyenv/versions/3.7.16/lib/python3.7/site-packages (from tensorboard<2.9,>=2.8->tensorflow==2.8.0) (2.2.3)\n",
            "Requirement already satisfied: cachetools<6.0,>=2.0.0 in /Users/bolatanibrahim/.pyenv/versions/3.7.16/lib/python3.7/site-packages (from google-auth<3,>=1.6.3->tensorboard<2.9,>=2.8->tensorflow==2.8.0) (5.5.0)\n",
            "Requirement already satisfied: pyasn1-modules>=0.2.1 in /Users/bolatanibrahim/.pyenv/versions/3.7.16/lib/python3.7/site-packages (from google-auth<3,>=1.6.3->tensorboard<2.9,>=2.8->tensorflow==2.8.0) (0.3.0)\n",
            "Requirement already satisfied: rsa<5,>=3.1.4 in /Users/bolatanibrahim/.pyenv/versions/3.7.16/lib/python3.7/site-packages (from google-auth<3,>=1.6.3->tensorboard<2.9,>=2.8->tensorflow==2.8.0) (4.9)\n",
            "Requirement already satisfied: requests-oauthlib>=0.7.0 in /Users/bolatanibrahim/.pyenv/versions/3.7.16/lib/python3.7/site-packages (from google-auth-oauthlib<0.5,>=0.4.1->tensorboard<2.9,>=2.8->tensorflow==2.8.0) (2.0.0)\n",
            "Requirement already satisfied: importlib-metadata>=4.4 in /Users/bolatanibrahim/.local/lib/python3.7/site-packages (from markdown>=2.6.8->tensorboard<2.9,>=2.8->tensorflow==2.8.0) (4.11.4)\n",
            "Requirement already satisfied: urllib3<1.27,>=1.21.1 in /Users/bolatanibrahim/.local/lib/python3.7/site-packages (from requests<3,>=2.21.0->tensorboard<2.9,>=2.8->tensorflow==2.8.0) (1.26.9)\n",
            "Requirement already satisfied: certifi>=2017.4.17 in /Users/bolatanibrahim/.local/lib/python3.7/site-packages (from requests<3,>=2.21.0->tensorboard<2.9,>=2.8->tensorflow==2.8.0) (2022.5.18.1)\n",
            "Requirement already satisfied: charset-normalizer~=2.0.0 in /Users/bolatanibrahim/.local/lib/python3.7/site-packages (from requests<3,>=2.21.0->tensorboard<2.9,>=2.8->tensorflow==2.8.0) (2.0.12)\n",
            "Requirement already satisfied: idna<4,>=2.5 in /Users/bolatanibrahim/.local/lib/python3.7/site-packages (from requests<3,>=2.21.0->tensorboard<2.9,>=2.8->tensorflow==2.8.0) (3.3)\n",
            "Requirement already satisfied: MarkupSafe>=2.1.1 in /Users/bolatanibrahim/.local/lib/python3.7/site-packages (from werkzeug>=0.11.15->tensorboard<2.9,>=2.8->tensorflow==2.8.0) (2.1.1)\n",
            "Requirement already satisfied: zipp>=0.5 in /Users/bolatanibrahim/.local/lib/python3.7/site-packages (from importlib-metadata>=4.4->markdown>=2.6.8->tensorboard<2.9,>=2.8->tensorflow==2.8.0) (3.8.0)\n",
            "Requirement already satisfied: pyasn1<0.6.0,>=0.4.6 in /Users/bolatanibrahim/.pyenv/versions/3.7.16/lib/python3.7/site-packages (from pyasn1-modules>=0.2.1->google-auth<3,>=1.6.3->tensorboard<2.9,>=2.8->tensorflow==2.8.0) (0.5.1)\n",
            "Requirement already satisfied: oauthlib>=3.0.0 in /Users/bolatanibrahim/.pyenv/versions/3.7.16/lib/python3.7/site-packages (from requests-oauthlib>=0.7.0->google-auth-oauthlib<0.5,>=0.4.1->tensorboard<2.9,>=2.8->tensorflow==2.8.0) (3.2.2)\n"
          ]
        }
      ],
      "source": [
        "!pip install Keras-Applications\n",
        "!pip install tensorflow==2.8.0"
      ]
    },
    {
      "cell_type": "markdown",
      "metadata": {
        "id": "6hjUJyALTdo9"
      },
      "source": [
        "<a id=\"item42\"></a>"
      ]
    },
    {
      "cell_type": "markdown",
      "metadata": {
        "id": "PSu4Y0f3Tdo9"
      },
      "source": [
        "## Part 1"
      ]
    },
    {
      "cell_type": "markdown",
      "metadata": {
        "id": "Rc2__A8eTdo-"
      },
      "source": [
        "In this part, you will design a classifier using the VGG16 pre-trained model. Just like the ResNet50 model, you can import the model <code>VGG16</code> from <code>keras.applications</code>."
      ]
    },
    {
      "cell_type": "markdown",
      "metadata": {
        "id": "o7XYuQLSTdo-"
      },
      "source": [
        "You will essentially build your classifier as follows:\n",
        "1. Import libraries, modules, and packages you will need. Make sure to import the *preprocess_input* function from <code>keras.applications.vgg16</code>.\n",
        "2. Use a batch size of 100 images for both training and validation.\n",
        "3. Construct an ImageDataGenerator for the training set and another one for the validation set. VGG16 was originally trained on 224 × 224 images, so make sure to address that when defining the ImageDataGenerator instances.\n",
        "4. Create a sequential model using Keras. Add VGG16 model to it and dense layer.\n",
        "5. Compile the mode using the adam optimizer and the categorical_crossentropy loss function.\n",
        "6. Fit the model on the augmented data using the ImageDataGenerators."
      ]
    },
    {
      "cell_type": "markdown",
      "metadata": {
        "id": "HdMW2loYTdo-"
      },
      "source": [
        "Use the following cells to create your classifier."
      ]
    },
    {
      "cell_type": "code",
      "execution_count": 4,
      "metadata": {
        "colab": {
          "base_uri": "https://localhost:8080/"
        },
        "id": "xdYZFl4wTdo-",
        "outputId": "74e108d6-f96d-4447-ba13-4f12431d6f14"
      },
      "outputs": [
        {
          "name": "stderr",
          "output_type": "stream",
          "text": [
            "/Users/bolatanibrahim/.local/lib/python3.7/site-packages/requests/__init__.py:104: RequestsDependencyWarning: urllib3 (1.26.9) or chardet (5.1.0)/charset_normalizer (2.0.12) doesn't match a supported version!\n",
            "  RequestsDependencyWarning)\n"
          ]
        }
      ],
      "source": [
        "from keras.preprocessing.image import ImageDataGenerator"
      ]
    },
    {
      "cell_type": "code",
      "execution_count": 5,
      "metadata": {
        "id": "kLQI8S9ITdo-"
      },
      "outputs": [],
      "source": [
        "import keras\n",
        "import tensorflow as tf\n",
        "from keras.models import Sequential\n",
        "from keras.layers import Dense"
      ]
    },
    {
      "cell_type": "code",
      "execution_count": 6,
      "metadata": {
        "id": "JHTwoeuhTdo_",
        "scrolled": true
      },
      "outputs": [],
      "source": [
        "from tensorflow.keras.applications.vgg16 import VGG16\n",
        "from tensorflow.keras.applications.vgg16 import preprocess_input"
      ]
    },
    {
      "cell_type": "code",
      "execution_count": 7,
      "metadata": {
        "id": "ETnl9vKcTdo_"
      },
      "outputs": [],
      "source": [
        "num_classes = 2\n",
        "image_resize = 224\n",
        "\n",
        "batch_size_training = 100\n",
        "batch_size_validation = 100"
      ]
    },
    {
      "cell_type": "code",
      "execution_count": 8,
      "metadata": {
        "id": "2pHQw4T1Tdo_"
      },
      "outputs": [],
      "source": [
        "data_generator = ImageDataGenerator(\n",
        "    preprocessing_function=preprocess_input\n",
        ")"
      ]
    },
    {
      "cell_type": "code",
      "execution_count": 9,
      "metadata": {
        "colab": {
          "base_uri": "https://localhost:8080/"
        },
        "id": "5AvnbKT3Tdo_",
        "outputId": "e145721b-8cfb-4a7e-958f-2c721df8663c"
      },
      "outputs": [
        {
          "name": "stdout",
          "output_type": "stream",
          "text": [
            "Found 30001 images belonging to 2 classes.\n"
          ]
        }
      ],
      "source": [
        "train_generator = data_generator.flow_from_directory(\n",
        "    './concrete_data_week4/train',\n",
        "    target_size=(image_resize, image_resize),\n",
        "    class_mode='categorical',\n",
        "    batch_size=batch_size_training\n",
        ")"
      ]
    },
    {
      "cell_type": "code",
      "execution_count": 10,
      "metadata": {
        "colab": {
          "base_uri": "https://localhost:8080/"
        },
        "id": "s8nMe69sTdpA",
        "outputId": "db2550b7-a626-41ef-b0fe-3e6eae6412d3"
      },
      "outputs": [
        {
          "name": "stdout",
          "output_type": "stream",
          "text": [
            "Found 9501 images belonging to 2 classes.\n"
          ]
        }
      ],
      "source": [
        "validation_generator = data_generator.flow_from_directory(\n",
        "    './concrete_data_week4/valid',\n",
        "    target_size=(image_resize, image_resize),\n",
        "    batch_size=batch_size_validation,\n",
        "    class_mode='categorical'\n",
        ")"
      ]
    },
    {
      "cell_type": "code",
      "execution_count": 11,
      "metadata": {
        "colab": {
          "base_uri": "https://localhost:8080/"
        },
        "id": "CodF0WJFTdpA",
        "outputId": "f2315443-278d-4d94-f2ad-11bc6a8d8c58"
      },
      "outputs": [
        {
          "name": "stderr",
          "output_type": "stream",
          "text": [
            "2024-09-02 03:34:21.141304: I tensorflow/core/platform/cpu_feature_guard.cc:151] This TensorFlow binary is optimized with oneAPI Deep Neural Network Library (oneDNN) to use the following CPU instructions in performance-critical operations:  AVX2 FMA\n",
            "To enable them in other operations, rebuild TensorFlow with the appropriate compiler flags.\n"
          ]
        }
      ],
      "source": [
        "model = Sequential()"
      ]
    },
    {
      "cell_type": "code",
      "execution_count": 12,
      "metadata": {
        "id": "QtbgpberTdpA"
      },
      "outputs": [],
      "source": [
        "model.add(\n",
        "    VGG16(\n",
        "        include_top=False,\n",
        "        pooling='avg',\n",
        "        weights='imagenet'\n",
        "    )\n",
        ")"
      ]
    },
    {
      "cell_type": "code",
      "execution_count": 13,
      "metadata": {
        "colab": {
          "base_uri": "https://localhost:8080/"
        },
        "id": "DguG5imOTdpA",
        "outputId": "1b6944f1-3fa5-439a-f95b-cb01ff23d435"
      },
      "outputs": [
        {
          "data": {
            "text/plain": [
              "[<keras.engine.functional.Functional at 0x12c3335d0>,\n",
              " <keras.layers.core.dense.Dense at 0x12c1fd1d0>]"
            ]
          },
          "execution_count": 13,
          "metadata": {},
          "output_type": "execute_result"
        }
      ],
      "source": [
        "model.add(Dense(num_classes, activation='softmax'))\n",
        "model.layers"
      ]
    },
    {
      "cell_type": "code",
      "execution_count": 14,
      "metadata": {
        "colab": {
          "base_uri": "https://localhost:8080/"
        },
        "id": "Nkl3xQbFTdpB",
        "outputId": "2242d17b-830b-4745-ed56-e47aeee47854"
      },
      "outputs": [
        {
          "data": {
            "text/plain": [
              "[<keras.engine.input_layer.InputLayer at 0x127cbec50>,\n",
              " <keras.layers.convolutional.Conv2D at 0x12bae3ed0>,\n",
              " <keras.layers.convolutional.Conv2D at 0x12ac485d0>,\n",
              " <keras.layers.pooling.MaxPooling2D at 0x12c2cd450>,\n",
              " <keras.layers.convolutional.Conv2D at 0x12c2fe210>,\n",
              " <keras.layers.convolutional.Conv2D at 0x12c305dd0>,\n",
              " <keras.layers.pooling.MaxPooling2D at 0x12c30bad0>,\n",
              " <keras.layers.convolutional.Conv2D at 0x12c30f590>,\n",
              " <keras.layers.convolutional.Conv2D at 0x12c31b290>,\n",
              " <keras.layers.convolutional.Conv2D at 0x12c3137d0>,\n",
              " <keras.layers.pooling.MaxPooling2D at 0x12c320690>,\n",
              " <keras.layers.convolutional.Conv2D at 0x12c329d90>,\n",
              " <keras.layers.convolutional.Conv2D at 0x12c32ff10>,\n",
              " <keras.layers.convolutional.Conv2D at 0x12c320950>,\n",
              " <keras.layers.pooling.MaxPooling2D at 0x12c305a90>,\n",
              " <keras.layers.convolutional.Conv2D at 0x12c1e9a10>,\n",
              " <keras.layers.convolutional.Conv2D at 0x12c2b8350>,\n",
              " <keras.layers.convolutional.Conv2D at 0x12c313250>,\n",
              " <keras.layers.pooling.MaxPooling2D at 0x12c32f9d0>,\n",
              " <keras.layers.pooling.GlobalAveragePooling2D at 0x12c2fc1d0>]"
            ]
          },
          "execution_count": 14,
          "metadata": {},
          "output_type": "execute_result"
        }
      ],
      "source": [
        "model.layers[0].layers"
      ]
    },
    {
      "cell_type": "code",
      "execution_count": 15,
      "metadata": {
        "id": "0KJV9gqXZfiX"
      },
      "outputs": [],
      "source": [
        "model.layers[0].trainable = False"
      ]
    },
    {
      "cell_type": "code",
      "execution_count": 16,
      "metadata": {
        "colab": {
          "base_uri": "https://localhost:8080/"
        },
        "id": "LqURHNeJZoAa",
        "outputId": "312cda81-36c3-42b3-ec5d-96bc762cbbd1"
      },
      "outputs": [
        {
          "name": "stdout",
          "output_type": "stream",
          "text": [
            "Model: \"sequential\"\n",
            "_________________________________________________________________\n",
            " Layer (type)                Output Shape              Param #   \n",
            "=================================================================\n",
            " vgg16 (Functional)          (None, 512)               14714688  \n",
            "                                                                 \n",
            " dense (Dense)               (None, 2)                 1026      \n",
            "                                                                 \n",
            "=================================================================\n",
            "Total params: 14,715,714\n",
            "Trainable params: 1,026\n",
            "Non-trainable params: 14,714,688\n",
            "_________________________________________________________________\n"
          ]
        }
      ],
      "source": [
        "model.summary()"
      ]
    },
    {
      "cell_type": "code",
      "execution_count": 17,
      "metadata": {
        "id": "9ZX7A-C8ZrFc"
      },
      "outputs": [],
      "source": [
        "model.compile(optimizer='adam', loss='categorical_crossentropy', metrics=['accuracy'])"
      ]
    },
    {
      "cell_type": "code",
      "execution_count": 18,
      "metadata": {
        "id": "ZIWi0lq9aUnT"
      },
      "outputs": [],
      "source": [
        "steps_per_epoch_training = len(train_generator)\n",
        "steps_per_epoch_validation = len(validation_generator)\n",
        "num_epochs = 2"
      ]
    },
    {
      "cell_type": "code",
      "execution_count": 19,
      "metadata": {
        "colab": {
          "base_uri": "https://localhost:8080/"
        },
        "id": "G-7KMscJayDa",
        "outputId": "0e555c99-7fa1-4052-9ecb-525cdcda6dea"
      },
      "outputs": [
        {
          "name": "stdout",
          "output_type": "stream",
          "text": [
            "Epoch 1/2\n",
            "301/301 [==============================] - 5755s 19s/step - loss: 0.0760 - accuracy: 0.9752 - val_loss: 0.0232 - val_accuracy: 0.9948\n",
            "Epoch 2/2\n",
            "301/301 [==============================] - 6559s 22s/step - loss: 0.0175 - accuracy: 0.9955 - val_loss: 0.0136 - val_accuracy: 0.9967\n"
          ]
        }
      ],
      "source": [
        "fit_history = model.fit(\n",
        "    train_generator,\n",
        "    steps_per_epoch=steps_per_epoch_training,\n",
        "    epochs=num_epochs,\n",
        "    validation_data=validation_generator,\n",
        "    validation_steps=steps_per_epoch_validation,\n",
        "    verbose=1\n",
        ")"
      ]
    },
    {
      "cell_type": "code",
      "execution_count": 20,
      "metadata": {
        "id": "il4DbGg8omuS"
      },
      "outputs": [],
      "source": [
        "model.save('classifier_vgg16_model.h5')"
      ]
    },
    {
      "cell_type": "markdown",
      "metadata": {
        "id": "pnhCTdxcTdpB"
      },
      "source": [
        "   "
      ]
    },
    {
      "cell_type": "markdown",
      "metadata": {
        "id": "aYNKXrkqTdpB"
      },
      "source": [
        "<a id=\"item43\"></a>"
      ]
    },
    {
      "cell_type": "markdown",
      "metadata": {
        "id": "5Pl4vzMSTdpB"
      },
      "source": [
        "## Part 2"
      ]
    },
    {
      "cell_type": "markdown",
      "metadata": {
        "id": "CMr2iL7dTdpC"
      },
      "source": [
        "In this part, you will evaluate your deep learning models on a test data. For this part, you will need to do the following:\n",
        "\n",
        "1. Load your saved model that was built using the ResNet50 model.\n",
        "2. Construct an ImageDataGenerator for the test set. For this ImageDataGenerator instance, you only need to pass the directory of the test images, target size, and the **shuffle** parameter and set it to False.\n",
        "3. Use the **evaluate_generator** method to evaluate your models on the test data, by passing the above ImageDataGenerator as an argument. You can learn more about **evaluate_generator** [here](https://keras.io/models/sequential/).\n",
        "4. Print the performance of the classifier using the VGG16 pre-trained model.\n",
        "5. Print the performance of the classifier using the ResNet pre-trained model.\n"
      ]
    },
    {
      "cell_type": "markdown",
      "metadata": {
        "id": "SeKw6MpaTdpC"
      },
      "source": [
        "Use the following cells to evaluate your models."
      ]
    },
    {
      "cell_type": "code",
      "execution_count": 22,
      "metadata": {
        "id": "N298ad18TdpC"
      },
      "outputs": [],
      "source": [
        "resnet_model = keras.models.load_model('./classifier_resnet_model.h5')\n",
        "vgg16_model = keras.models.load_model('./classifier_vgg16_model.h5')"
      ]
    },
    {
      "cell_type": "code",
      "execution_count": 23,
      "metadata": {
        "colab": {
          "base_uri": "https://localhost:8080/"
        },
        "id": "Rmz3GVkrTdpC",
        "outputId": "b4d7e583-9d8b-4170-cc3a-f5ebb07ae00d"
      },
      "outputs": [
        {
          "name": "stdout",
          "output_type": "stream",
          "text": [
            "Found 500 images belonging to 2 classes.\n"
          ]
        }
      ],
      "source": [
        "test_generator = data_generator.flow_from_directory(\n",
        "    './concrete_data_week4/test',\n",
        "    target_size=(image_resize, image_resize),\n",
        "    shuffle=False\n",
        ")"
      ]
    },
    {
      "cell_type": "code",
      "execution_count": 24,
      "metadata": {
        "colab": {
          "base_uri": "https://localhost:8080/"
        },
        "id": "fL79ajNJTdpC",
        "outputId": "fce0503f-bcb8-4efc-8a7d-1911148c6283"
      },
      "outputs": [
        {
          "name": "stdout",
          "output_type": "stream",
          "text": [
            "16/16 [==============================] - 26s 2s/step - loss: 0.0081 - accuracy: 0.9960\n",
            "16/16 [==============================] - 60s 4s/step - loss: 0.0103 - accuracy: 0.9960\n"
          ]
        }
      ],
      "source": [
        "resnet_evaluation_history = resnet_model.evaluate(test_generator)\n",
        "vgg16_evaluation_history = vgg16_model.evaluate(test_generator)"
      ]
    },
    {
      "cell_type": "code",
      "execution_count": 25,
      "metadata": {
        "colab": {
          "base_uri": "https://localhost:8080/"
        },
        "id": "9g-w6oU_TdpD",
        "outputId": "b6b46d7a-5790-44bb-9eaf-f783165369fd"
      },
      "outputs": [
        {
          "name": "stdout",
          "output_type": "stream",
          "text": [
            "VGG16 performance:  [0.010298829525709152, 0.9959999918937683]\n",
            "ResNet performance:  [0.008076358586549759, 0.9959999918937683]\n"
          ]
        }
      ],
      "source": [
        "print('VGG16 performance: ', vgg16_evaluation_history)\n",
        "print('ResNet performance: ', resnet_evaluation_history)"
      ]
    },
    {
      "cell_type": "markdown",
      "metadata": {
        "id": "QXLhl1lZTdpD"
      },
      "source": [
        "   "
      ]
    },
    {
      "cell_type": "markdown",
      "metadata": {
        "id": "IOZR_9PATdpD"
      },
      "source": [
        "<a id=\"item44\"></a>"
      ]
    },
    {
      "cell_type": "markdown",
      "metadata": {
        "id": "0wA_goSPTdpD"
      },
      "source": [
        "## Part 3"
      ]
    },
    {
      "cell_type": "markdown",
      "metadata": {
        "id": "HS69nrzgTdpE"
      },
      "source": [
        "In this model, you will predict whether the images in the test data are images of cracked concrete or not. You will do the following:\n",
        "\n",
        "1. Use the **predict_generator** method to predict the class of the images in the test data, by passing the test data ImageDataGenerator instance defined in the previous part as an argument. You can learn more about the **predict_generator** method [here](https://keras.io/models/sequential/).\n",
        "2. Report the class predictions of the first five images in the test set. You should print something list this:\n",
        "\n",
        "<center>\n",
        "    <ul style=\"list-style-type:none\">\n",
        "        <li>Positive</li>  \n",
        "        <li>Negative</li>\n",
        "        <li>Positive</li>\n",
        "        <li>Positive</li>\n",
        "        <li>Negative</li>\n",
        "    </ul>\n",
        "</center>"
      ]
    },
    {
      "cell_type": "markdown",
      "metadata": {
        "id": "7FmjO7yGTdpE"
      },
      "source": [
        "Use the following cells to make your predictions."
      ]
    },
    {
      "cell_type": "code",
      "execution_count": 28,
      "metadata": {
        "id": "AksOQuzcaVbR"
      },
      "outputs": [],
      "source": [
        "import numpy as np"
      ]
    },
    {
      "cell_type": "code",
      "execution_count": 34,
      "metadata": {
        "id": "pGjy8dD3TdpE"
      },
      "outputs": [],
      "source": [
        "resnet_predictions = resnet_model.predict(test_generator)\n",
        "resnet_round_preds = np.around(resnet_predictions)\n",
        "ressnet_class_preds = np.argmax(resnet_predictions, axis=-1)"
      ]
    },
    {
      "cell_type": "code",
      "execution_count": 35,
      "metadata": {
        "id": "0teXT4CZTdpE"
      },
      "outputs": [],
      "source": [
        "vgg16_predictions = vgg16_model.predict(test_generator)\n",
        "vgg16_round_preds = np.around(vgg16_predictions)\n",
        "vgg16_class_preds = np.argmax(vgg16_predictions, axis=-1)"
      ]
    },
    {
      "cell_type": "code",
      "execution_count": 31,
      "metadata": {
        "id": "LiRLjTZhTdpF"
      },
      "outputs": [],
      "source": [
        "def convert_predict_to_classes(predictions, sample_size=5):\n",
        "    for negative, positive in predictions[0:sample_size]:\n",
        "        print('Negative' if negative == 1 else 'Positive')"
      ]
    },
    {
      "cell_type": "code",
      "execution_count": 39,
      "metadata": {
        "colab": {
          "base_uri": "https://localhost:8080/"
        },
        "id": "Fk6SORcnTdpF",
        "outputId": "8ad1bef5-e0ed-40b4-f81b-f4b3ea22bca7"
      },
      "outputs": [
        {
          "name": "stdout",
          "output_type": "stream",
          "text": [
            "ResNet prediction for the test set........\n",
            "Negative\n",
            "Negative\n",
            "Negative\n",
            "Negative\n",
            "Negative\n"
          ]
        }
      ],
      "source": [
        "print('ResNet prediction for the test set........')\n",
        "convert_predict_to_classes(resnet_round_preds)"
      ]
    },
    {
      "cell_type": "code",
      "execution_count": 40,
      "metadata": {
        "colab": {
          "base_uri": "https://localhost:8080/"
        },
        "id": "Hm4v4jM4qeCc",
        "outputId": "b6fd44db-2d62-4c1a-b87c-b429c820fd00"
      },
      "outputs": [
        {
          "name": "stdout",
          "output_type": "stream",
          "text": [
            "VGG16 prediction for the test set........\n",
            "Negative\n",
            "Negative\n",
            "Negative\n",
            "Negative\n",
            "Negative\n"
          ]
        }
      ],
      "source": [
        "print('VGG16 prediction for the test set........')\n",
        "convert_predict_to_classes(vgg16_round_preds)"
      ]
    },
    {
      "cell_type": "markdown",
      "metadata": {
        "id": "UscXAhx1TdpF"
      },
      "source": [
        "  "
      ]
    },
    {
      "cell_type": "markdown",
      "metadata": {
        "id": "YsiRRgjzTdpF"
      },
      "source": [
        "### Thank you for completing this lab!\n",
        "\n",
        "This notebook was created by Alex Aklson."
      ]
    },
    {
      "cell_type": "markdown",
      "metadata": {
        "id": "3AoDCIUtTdpG"
      },
      "source": [
        "This notebook is part of a course on **Coursera** called *AI Capstone Project with Deep Learning*. If you accessed this notebook outside the course, you can take this course online by clicking [here](https://cocl.us/DL0321EN_Coursera_Week4_LAB1)."
      ]
    },
    {
      "cell_type": "markdown",
      "metadata": {
        "id": "RwtG6bjxTdpG"
      },
      "source": [
        "<hr>\n",
        "\n",
        "Copyright &copy; 2020 [IBM Developer Skills Network](https://cognitiveclass.ai/?utm_source=bducopyrightlink&utm_medium=dswb&utm_campaign=bdu). This notebook and its source code are released under the terms of the [MIT License](https://bigdatauniversity.com/mit-license/)."
      ]
    }
  ],
  "metadata": {
    "accelerator": "GPU",
    "colab": {
      "gpuType": "T4",
      "provenance": []
    },
    "kernelspec": {
      "display_name": "Python 3",
      "name": "python3"
    },
    "language_info": {
      "name": "python"
    }
  },
  "nbformat": 4,
  "nbformat_minor": 0
}
